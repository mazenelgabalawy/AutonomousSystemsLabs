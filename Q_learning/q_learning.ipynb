{
  "cells": [
    {
      "cell_type": "markdown",
      "metadata": {
        "id": "oTBbTsk4vGkY"
      },
      "source": [
        "# **Robot Learning – Reinforcement Learning**"
      ]
    },
    {
      "cell_type": "markdown",
      "metadata": {
        "id": "qCnQbiFVvG0A"
      },
      "source": [
        "The goal of this practical exercise is to implement a Reinforcement Learning algorithm to learn a policy that moves a robot to a goal position. The algorithm is the Q-learning algorithm.\n",
        "\n",
        "## The Problem\n",
        "The problem consists in finding the goal in a finite 2D environment that is closed and contains some obstacles.\n",
        "\n",
        "**States and actions:** The size of the environment is 20x14=280 states. The robot can only do 4 different actions: {←, ↑, →, ↓} (not diagonal movements!). Therefore the size of the Q function will be 280x4=1120 cells.\n",
        "\n",
        "**Dynamics:** The robot can be located in any free cell (not in the obstacle cells!). The function that describes the dynamics is very simple: the robot will move ONE cell per iteration to the direction of the action that we select, unless there is an obstacle or the wall in front of it, in which case it will\n",
        "stay in the same position.\n",
        "\n",
        "**Reinforcement function:** Since the goal is to reach the goal position as fast as possible, the reinforcement function will give -1 in all cells except in the goal cell, where the reward will be +1. The cell that contains the goal is (3,17)."
      ]
    },
    {
      "cell_type": "markdown",
      "metadata": {
        "id": "GIrgWmuPulz-"
      },
      "source": [
        "## Data"
      ]
    },
    {
      "cell_type": "markdown",
      "metadata": {
        "id": "9so0pzxsvUyn"
      },
      "source": [
        "Next you have the map that will be used as the environment for the Q-learning algorithm:"
      ]
    },
    {
      "cell_type": "code",
      "execution_count": 32,
      "metadata": {
        "colab": {
          "base_uri": "https://localhost:8080/",
          "height": 426
        },
        "id": "CggQ83Bzul0E",
        "outputId": "22ebc4c9-41b5-47d8-e242-266ad25901fe"
      },
      "outputs": [
        {
          "data": {
            "image/png": "[encoded data removed]",
            "text/plain": [
              "<Figure size 685.714x480 with 2 Axes>"
            ]
          },
          "metadata": {},
          "output_type": "display_data"
        }
      ],
      "source": [
        "from matplotlib import pyplot as plt\n",
        "import numpy as np\n",
        "\n",
        "# Proposed Map\n",
        "map=[\n",
        "[1, 1, 1, 1, 1, 1, 1, 1, 1, 1, 1, 1, 1, 1, 1, 1, 1, 1, 1, 1],\n",
        "[1, 0, 0, 0, 0, 0, 1, 1, 0, 0, 0, 0, 0, 0, 1, 1, 0, 0, 0, 1],\n",
        "[1, 0, 0, 0, 0, 0, 1, 1, 0, 0, 0, 0, 0, 0, 1, 1, 0, 0, 0, 1],\n",
        "[1, 0, 0, 0, 0, 0, 0, 0, 0, 0, 0, 0, 0, 0, 1, 1, 0, 0, 0, 1],\n",
        "[1, 0, 0, 0, 0, 0, 0, 0, 0, 0, 0, 0, 0, 0, 1, 1, 0, 0, 0, 1],\n",
        "[1, 0, 0, 0, 1, 1, 1, 1, 1, 0, 0, 0, 0, 0, 1, 1, 0, 0, 0, 1],\n",
        "[1, 0, 0, 0, 1, 1, 1, 1, 1, 0, 0, 0, 0, 0, 0, 0, 0, 0, 0, 1],\n",
        "[1, 0, 0, 0, 0, 0, 0, 1, 1, 0, 0, 0, 0, 0, 0, 0, 0, 0, 0, 1],\n",
        "[1, 0, 0, 0, 0, 0, 0, 1, 1, 0, 0, 0, 0, 0, 0, 0, 0, 0, 0, 1],\n",
        "[1, 0, 0, 0, 0, 0, 0, 1, 1, 0, 0, 0, 0, 0, 1, 0, 0, 0, 0, 1],\n",
        "[1, 0, 0, 0, 0, 0, 0, 0, 0, 0, 0, 0, 0, 1, 1, 0, 0, 0, 0, 1],\n",
        "[1, 0, 0, 0, 0, 0, 0, 0, 0, 0, 0, 0, 1, 1, 1, 0, 0, 0, 0, 1],\n",
        "[1, 0, 0, 0, 0, 0, 0, 0, 0, 0, 0, 1, 1, 1, 1, 0, 0, 0, 0, 1],\n",
        "[1, 1, 1, 1, 1, 1, 1, 1, 1, 1, 1, 1, 1, 1, 1, 1, 1, 1, 1, 1]]\n",
        "\n",
        "\n",
        "# Convert Map 2D array to Numpy array\n",
        "grid_map = np.array(map)\n",
        "\n",
        "# Show grid map\n",
        "plt.matshow(grid_map, cmap = \"jet\")\n",
        "plt.title('Base Map')\n",
        "plt.colorbar()\n",
        "plt.scatter(17,3, c = 'g')\n",
        "plt.show()\n"
      ]
    },
    {
      "cell_type": "markdown",
      "metadata": {
        "id": "luRN-DT83C7j"
      },
      "source": [
        "## Algorithm\n",
        "\n",
        "In order to implement the Q-learning algorithm, you should follow the next pseudocode:\n",
        "\n",
        "```verbatim\n",
        "Initialize Q(s,a) to 0 or random\n",
        "For n episodes:\n",
        "    Initialize s randomly in any free cell\n",
        "    repeat:\n",
        "        Choose action 'a' following epsilon-greedy policy\n",
        "        Take action a, observe r and s'\n",
        "        Q(s,a) <- Q(s,a) + alpha * (r + gamma * max_a Q(s',a)) - Q(s,a)\n",
        "        s <- s'\n",
        "    until the episode terminates\n",
        "endFor\n",
        "```\n",
        "\n",
        "You will have to set several parameters experimentally: n, m, epsilon, alpha and gamma."
      ]
    },
    {
      "cell_type": "markdown",
      "metadata": {
        "id": "O_BIOfiSul0H"
      },
      "source": [
        "## Environment"
      ]
    },
    {
      "cell_type": "markdown",
      "metadata": {
        "id": "45Wso3k5x0ab"
      },
      "source": [
        "In the environment class, you set the possible actions, the rewards obtained depending of those actions and the state of the agent after the action is applied.\n",
        "\n",
        "You have to fill the empty functions following the previous pseudocode."
      ]
    },
    {
      "cell_type": "code",
      "execution_count": 39,
      "metadata": {
        "id": "LXZAnv09ul0I"
      },
      "outputs": [],
      "source": [
        "class MapEnv:\n",
        "    def __init__(self, map, goal, max_steps):\n",
        "        self.map = map\n",
        "        self.current_state = None\n",
        "        self.goal = goal.astype(np.int32)\n",
        "        self.actions = 4\n",
        "        self.steps = 0\n",
        "        self.valid_rows ,self.valid_cols = np.where(self.map == 0) # Free Cells\n",
        "        self.max_steps = max_steps\n",
        "        if map[goal[0], goal[1]] != 0:\n",
        "            raise ValueError(\"Goal position is an obstacle\")\n",
        "\n",
        "    def reset(self):\n",
        "        # start the agent in a random position within the map and return agent state (cell in which it is)\n",
        "        self.steps = 0\n",
        "        random_idx = np.random.choice(len(self.valid_rows))\n",
        "        self.current_state = np.array([self.valid_rows[random_idx], self.valid_cols[random_idx]])\n",
        "        return self.current_state\n",
        "\n",
        "    def step(self, action):\n",
        "      # this function applies the action taken and returns the obtained state, a reward and a boolean that says if the episode has ended (max steps or goal reached) or not (any other case)\n",
        "      # action: 0 = up, 1 = down, 2 = left, 3 = right\n",
        "\n",
        "      new_state = self.get_state()# get current state\n",
        "\n",
        "      # get new_state according to the required action\n",
        "      match action:\n",
        "        case 0: # up\n",
        "          new_state[1] -= 1\n",
        "        case 1: # down\n",
        "          new_state[1] += 1\n",
        "        case 2: # left\n",
        "          new_state[0] -= 1\n",
        "        case 3: # right\n",
        "          new_state[0] += 1\n",
        "\n",
        "      if new_state[0] < 0 or new_state[0] >= self.map.shape[0] or new_state[1] < 0 or new_state[1] >= self.map.shape[1] or self.map[new_state[0], new_state[1]] == 1:\n",
        "        new_state = self.current_state # Don't move if will hit obstacle\n",
        "\n",
        "      self.steps += 1\n",
        "\n",
        "      if np.array_equal(new_state, self.goal):\n",
        "        reward = 1\n",
        "        done = True\n",
        "      elif self.steps == self.max_steps:\n",
        "        done = True\n",
        "        reward = -1\n",
        "      else:\n",
        "        done = False\n",
        "        reward = -1\n",
        "\n",
        "      return new_state, reward, done\n",
        "\n",
        "    def get_state(self):\n",
        "      # returns current state\n",
        "      return self.current_state\n",
        "\n",
        "    def render(self, i=0):\n",
        "        plt.matshow(self.map, cmap = \"jet\")\n",
        "        plt.title('Map')\n",
        "        plt.colorbar()\n",
        "        plt.scatter(self.current_state[1], self.current_state[0], c = 'r')\n",
        "        plt.scatter(self.goal[1], self.goal[0], c = 'g')\n",
        "        plt.savefig(\"q_learning_{0:04}.png\".format(i), dpi = 300)\n",
        "        plt.show()"
      ]
    },
    {
      "cell_type": "code",
      "execution_count": 35,
      "metadata": {
        "colab": {
          "base_uri": "https://localhost:8080/"
        },
        "id": "deSCeh_J-gz6",
        "outputId": "80b38e9a-0659-4f14-e7f1-b25a6f877e0b"
      },
      "outputs": [
        {
          "data": {
            "text/plain": [
              "14"
            ]
          },
          "execution_count": 35,
          "metadata": {},
          "output_type": "execute_result"
        }
      ],
      "source": [
        "np.shape(grid_map)[0]"
      ]
    },
    {
      "cell_type": "markdown",
      "metadata": {
        "id": "OXg1_4u6ul0K"
      },
      "source": [
        "## QLearning algorithm"
      ]
    },
    {
      "cell_type": "markdown",
      "metadata": {
        "id": "k7uF89DbFVVq"
      },
      "source": [
        "QLearning class creates and trains the policy at every episode using the information provided by the environment. After the training is over, the optimal policy and the value function are obtained.\n",
        "\n",
        "As in the MapEnv class, you have to fill the empty functions following the previous pseudocode."
      ]
    },
    {
      "cell_type": "code",
      "execution_count": 37,
      "metadata": {
        "id": "3qnWaAKPul0L"
      },
      "outputs": [],
      "source": [
        "from re import S\n",
        "class QLearning:\n",
        "    def __init__(self, env, alpha, gamma, epsilon, n_episodes):\n",
        "        self.env = env\n",
        "        self.alpha = alpha\n",
        "        self.gamma = gamma\n",
        "        self.epsilon = epsilon\n",
        "        self.n_episodes = n_episodes\n",
        "        self.Q = np.random.rand(env.map.shape[0], env.map.shape[1], env.actions)\n",
        "\n",
        "    def epsilon_greedy_policy(self, s, epsilon):\n",
        "        # Epsilon greedy policy (choose a random action with probability epsilon)\n",
        "        if np.random.rand() < epsilon:\n",
        "            return np.random.randint(0, self.env.actions)\n",
        "        else:\n",
        "            return np.argmax(self.Q[s[0], s[1]])\n",
        "\n",
        "    def episode(self, alpha, epsilon):\n",
        "        # Episode execution. Generate an action with epsilon_greedy_policy, call step, appy learning function\n",
        "        # This function should return the total reward obtained in this episode\n",
        "        s = self.env.reset()\n",
        "        done = False\n",
        "        total_reward = 0\n",
        "        while not done:\n",
        "            a = self.epsilon_greedy_policy(s, epsilon)\n",
        "            s_prime, reward, done = self.env.step(a)\n",
        "            self.Q[s[0], s[1], a] += alpha * (reward + self.gamma * np.max(self.Q[s_prime[0], s_prime[1]]) - self.Q[s[0], s[1], a])\n",
        "            s = s_prime\n",
        "            total_reward += reward\n",
        "        self.env.reset()\n",
        "        return total_reward\n",
        "\n",
        "    def train(self, n_episodes, check_every_n=100):\n",
        "        \"\"\"Execute n_episodes and every `check_every_n` episodes print the average reward and store it.\n",
        "           As the initial position is random, this number will not be super stable...\"\"\"\n",
        "        rewards = []\n",
        "        avg_rewards = []\n",
        "        for i in range(n_episodes):\n",
        "            reward = self.episode(self.alpha, self.epsilon)\n",
        "            rewards.append(reward)\n",
        "            if (i+1) % check_every_n == 0:\n",
        "              avg_reward = np.mean(rewards)\n",
        "              print(f\"Average reward at iteration {i+1}: {avg_reward}\")\n",
        "              avg_rewards.append(avg_reward)\n",
        "    def get_optimal_policy(self):\n",
        "        \"\"\"Once training is done, retrieve the optimal policy from Q(s,a).\"\"\"\n",
        "        policy = np.argmax(self.Q, axis = 2)\n",
        "        policy[self.env.map == 1] = -1\n",
        "        return policy\n",
        "\n",
        "    def value_function(self):\n",
        "        \"\"\"Once training is done, retrieve the optimal value function from from Q(s,a)\"\"\"\n",
        "        v = np.max(self.Q, axis = 2)\n",
        "        v[self.env.map == 1] = -np.inf\n",
        "        return v\n"
      ]
    },
    {
      "cell_type": "code",
      "execution_count": 25,
      "metadata": {
        "colab": {
          "base_uri": "https://localhost:8080/"
        },
        "id": "a1Ww5wXSnfvO",
        "outputId": "3b64a280-3201-4c91-ca00-625f65b517a0"
      },
      "outputs": [
        {
          "name": "stdout",
          "output_type": "stream",
          "text": [
            "(14, 20, 4)\n"
          ]
        },
        {
          "data": {
            "text/plain": [
              "array([0.99274122, 0.65571865, 0.25554939, 0.63547497])"
            ]
          },
          "execution_count": 25,
          "metadata": {},
          "output_type": "execute_result"
        }
      ],
      "source": [
        "myenv = MapEnv(grid_map,np.array([3,17]),50)\n",
        "q = QLearning(myenv, 0.1, 0.9, 0.1, 100)\n",
        "\n",
        "print(np.shape(q.Q))\n",
        "q.Q[1,1]"
      ]
    },
    {
      "cell_type": "markdown",
      "metadata": {
        "id": "MHXBD26aul0N"
      },
      "source": [
        "## Training"
      ]
    },
    {
      "cell_type": "markdown",
      "metadata": {
        "id": "7U2V6wf_-ZVP"
      },
      "source": [
        "For the training you need to choose some parameters experimentally. Test different values to see how the training results change.\n",
        "\n",
        "Parameters:\n",
        "\n",
        "* **alpha**: learning rate of the algorithm\n",
        "* **gamma**: discount factor of the algorithm\n",
        "* **epsilon**: random action probability\n",
        "* **n_episodes**: number of episode repetitions\n",
        "* **max_steps**: maximum number of iterations per episode (in Environment class)"
      ]
    },
    {
      "cell_type": "code",
      "execution_count": 40,
      "metadata": {
        "colab": {
          "base_uri": "https://localhost:8080/",
          "height": 322
        },
        "id": "eLtF2eDUul0O",
        "outputId": "2a186f0e-32bc-49f8-998b-a09d668d658f"
      },
      "outputs": [
        {
          "ename": "IndexError",
          "evalue": "index 20 is out of bounds for axis 1 with size 20",
          "output_type": "error",
          "traceback": [
            "\u001b[0;31m---------------------------------------------------------------------------\u001b[0m",
            "\u001b[0;31mIndexError\u001b[0m                                Traceback (most recent call last)",
            "\u001b[0;32m<ipython-input-40-cd4de83ee7d3>\u001b[0m in \u001b[0;36m<cell line: 10>\u001b[0;34m()\u001b[0m\n\u001b[1;32m      8\u001b[0m \u001b[0mmyenv\u001b[0m \u001b[0;34m=\u001b[0m \u001b[0mMapEnv\u001b[0m\u001b[0;34m(\u001b[0m\u001b[0mgrid_map\u001b[0m\u001b[0;34m,\u001b[0m\u001b[0mnp\u001b[0m\u001b[0;34m.\u001b[0m\u001b[0marray\u001b[0m\u001b[0;34m(\u001b[0m\u001b[0;34m[\u001b[0m\u001b[0;36m3\u001b[0m\u001b[0;34m,\u001b[0m\u001b[0;36m17\u001b[0m\u001b[0;34m]\u001b[0m\u001b[0;34m)\u001b[0m\u001b[0;34m,\u001b[0m\u001b[0mmax_steps\u001b[0m\u001b[0;34m)\u001b[0m\u001b[0;34m\u001b[0m\u001b[0;34m\u001b[0m\u001b[0m\n\u001b[1;32m      9\u001b[0m \u001b[0mq\u001b[0m \u001b[0;34m=\u001b[0m \u001b[0mQLearning\u001b[0m\u001b[0;34m(\u001b[0m\u001b[0mmyenv\u001b[0m\u001b[0;34m,\u001b[0m \u001b[0malpha\u001b[0m\u001b[0;34m,\u001b[0m \u001b[0mgamma\u001b[0m\u001b[0;34m,\u001b[0m \u001b[0mepsilon\u001b[0m\u001b[0;34m,\u001b[0m \u001b[0mn_episodes\u001b[0m\u001b[0;34m)\u001b[0m\u001b[0;34m\u001b[0m\u001b[0;34m\u001b[0m\u001b[0m\n\u001b[0;32m---> 10\u001b[0;31m \u001b[0mq\u001b[0m\u001b[0;34m.\u001b[0m\u001b[0mtrain\u001b[0m\u001b[0;34m(\u001b[0m\u001b[0mn_episodes\u001b[0m\u001b[0;34m)\u001b[0m\u001b[0;34m\u001b[0m\u001b[0;34m\u001b[0m\u001b[0m\n\u001b[0m",
            "\u001b[0;32m<ipython-input-37-eade302279e8>\u001b[0m in \u001b[0;36mtrain\u001b[0;34m(self, n_episodes, check_every_n)\u001b[0m\n\u001b[1;32m     37\u001b[0m         \u001b[0mavg_rewards\u001b[0m \u001b[0;34m=\u001b[0m \u001b[0;34m[\u001b[0m\u001b[0;34m]\u001b[0m\u001b[0;34m\u001b[0m\u001b[0;34m\u001b[0m\u001b[0m\n\u001b[1;32m     38\u001b[0m         \u001b[0;32mfor\u001b[0m \u001b[0mi\u001b[0m \u001b[0;32min\u001b[0m \u001b[0mrange\u001b[0m\u001b[0;34m(\u001b[0m\u001b[0mn_episodes\u001b[0m\u001b[0;34m)\u001b[0m\u001b[0;34m:\u001b[0m\u001b[0;34m\u001b[0m\u001b[0;34m\u001b[0m\u001b[0m\n\u001b[0;32m---> 39\u001b[0;31m             \u001b[0mreward\u001b[0m \u001b[0;34m=\u001b[0m \u001b[0mself\u001b[0m\u001b[0;34m.\u001b[0m\u001b[0mepisode\u001b[0m\u001b[0;34m(\u001b[0m\u001b[0mself\u001b[0m\u001b[0;34m.\u001b[0m\u001b[0malpha\u001b[0m\u001b[0;34m,\u001b[0m \u001b[0mself\u001b[0m\u001b[0;34m.\u001b[0m\u001b[0mepsilon\u001b[0m\u001b[0;34m)\u001b[0m\u001b[0;34m\u001b[0m\u001b[0;34m\u001b[0m\u001b[0m\n\u001b[0m\u001b[1;32m     40\u001b[0m             \u001b[0mrewards\u001b[0m\u001b[0;34m.\u001b[0m\u001b[0mappend\u001b[0m\u001b[0;34m(\u001b[0m\u001b[0mreward\u001b[0m\u001b[0;34m)\u001b[0m\u001b[0;34m\u001b[0m\u001b[0;34m\u001b[0m\u001b[0m\n\u001b[1;32m     41\u001b[0m             \u001b[0;32mif\u001b[0m \u001b[0;34m(\u001b[0m\u001b[0mi\u001b[0m\u001b[0;34m+\u001b[0m\u001b[0;36m1\u001b[0m\u001b[0;34m)\u001b[0m \u001b[0;34m%\u001b[0m \u001b[0mcheck_every_n\u001b[0m \u001b[0;34m==\u001b[0m \u001b[0;36m0\u001b[0m\u001b[0;34m:\u001b[0m\u001b[0;34m\u001b[0m\u001b[0;34m\u001b[0m\u001b[0m\n",
            "\u001b[0;32m<ipython-input-37-eade302279e8>\u001b[0m in \u001b[0;36mepisode\u001b[0;34m(self, alpha, epsilon)\u001b[0m\n\u001b[1;32m     24\u001b[0m         \u001b[0;32mwhile\u001b[0m \u001b[0;32mnot\u001b[0m \u001b[0mdone\u001b[0m\u001b[0;34m:\u001b[0m\u001b[0;34m\u001b[0m\u001b[0;34m\u001b[0m\u001b[0m\n\u001b[1;32m     25\u001b[0m             \u001b[0ma\u001b[0m \u001b[0;34m=\u001b[0m \u001b[0mself\u001b[0m\u001b[0;34m.\u001b[0m\u001b[0mepsilon_greedy_policy\u001b[0m\u001b[0;34m(\u001b[0m\u001b[0ms\u001b[0m\u001b[0;34m,\u001b[0m \u001b[0mepsilon\u001b[0m\u001b[0;34m)\u001b[0m\u001b[0;34m\u001b[0m\u001b[0;34m\u001b[0m\u001b[0m\n\u001b[0;32m---> 26\u001b[0;31m             \u001b[0ms_prime\u001b[0m\u001b[0;34m,\u001b[0m \u001b[0mreward\u001b[0m\u001b[0;34m,\u001b[0m \u001b[0mdone\u001b[0m \u001b[0;34m=\u001b[0m \u001b[0mself\u001b[0m\u001b[0;34m.\u001b[0m\u001b[0menv\u001b[0m\u001b[0;34m.\u001b[0m\u001b[0mstep\u001b[0m\u001b[0;34m(\u001b[0m\u001b[0ma\u001b[0m\u001b[0;34m)\u001b[0m\u001b[0;34m\u001b[0m\u001b[0;34m\u001b[0m\u001b[0m\n\u001b[0m\u001b[1;32m     27\u001b[0m             \u001b[0mself\u001b[0m\u001b[0;34m.\u001b[0m\u001b[0mQ\u001b[0m\u001b[0;34m[\u001b[0m\u001b[0ms\u001b[0m\u001b[0;34m[\u001b[0m\u001b[0;36m0\u001b[0m\u001b[0;34m]\u001b[0m\u001b[0;34m,\u001b[0m \u001b[0ms\u001b[0m\u001b[0;34m[\u001b[0m\u001b[0;36m1\u001b[0m\u001b[0;34m]\u001b[0m\u001b[0;34m,\u001b[0m \u001b[0ma\u001b[0m\u001b[0;34m]\u001b[0m \u001b[0;34m+=\u001b[0m \u001b[0malpha\u001b[0m \u001b[0;34m*\u001b[0m \u001b[0;34m(\u001b[0m\u001b[0mreward\u001b[0m \u001b[0;34m+\u001b[0m \u001b[0mself\u001b[0m\u001b[0;34m.\u001b[0m\u001b[0mgamma\u001b[0m \u001b[0;34m*\u001b[0m \u001b[0mnp\u001b[0m\u001b[0;34m.\u001b[0m\u001b[0mmax\u001b[0m\u001b[0;34m(\u001b[0m\u001b[0mself\u001b[0m\u001b[0;34m.\u001b[0m\u001b[0mQ\u001b[0m\u001b[0;34m[\u001b[0m\u001b[0ms_prime\u001b[0m\u001b[0;34m[\u001b[0m\u001b[0;36m0\u001b[0m\u001b[0;34m]\u001b[0m\u001b[0;34m,\u001b[0m \u001b[0ms_prime\u001b[0m\u001b[0;34m[\u001b[0m\u001b[0;36m1\u001b[0m\u001b[0;34m]\u001b[0m\u001b[0;34m]\u001b[0m\u001b[0;34m)\u001b[0m \u001b[0;34m-\u001b[0m \u001b[0mself\u001b[0m\u001b[0;34m.\u001b[0m\u001b[0mQ\u001b[0m\u001b[0;34m[\u001b[0m\u001b[0ms\u001b[0m\u001b[0;34m[\u001b[0m\u001b[0;36m0\u001b[0m\u001b[0;34m]\u001b[0m\u001b[0;34m,\u001b[0m \u001b[0ms\u001b[0m\u001b[0;34m[\u001b[0m\u001b[0;36m1\u001b[0m\u001b[0;34m]\u001b[0m\u001b[0;34m,\u001b[0m \u001b[0ma\u001b[0m\u001b[0;34m]\u001b[0m\u001b[0;34m)\u001b[0m\u001b[0;34m\u001b[0m\u001b[0;34m\u001b[0m\u001b[0m\n\u001b[1;32m     28\u001b[0m             \u001b[0ms\u001b[0m \u001b[0;34m=\u001b[0m \u001b[0ms_prime\u001b[0m\u001b[0;34m\u001b[0m\u001b[0;34m\u001b[0m\u001b[0m\n",
            "\u001b[0;32m<ipython-input-39-bb1c7894f2ad>\u001b[0m in \u001b[0;36mstep\u001b[0;34m(self, action)\u001b[0m\n\u001b[1;32m     35\u001b[0m           \u001b[0mnew_state\u001b[0m\u001b[0;34m[\u001b[0m\u001b[0;36m0\u001b[0m\u001b[0;34m]\u001b[0m \u001b[0;34m+=\u001b[0m \u001b[0;36m1\u001b[0m\u001b[0;34m\u001b[0m\u001b[0;34m\u001b[0m\u001b[0m\n\u001b[1;32m     36\u001b[0m \u001b[0;34m\u001b[0m\u001b[0m\n\u001b[0;32m---> 37\u001b[0;31m       \u001b[0;32mif\u001b[0m \u001b[0mself\u001b[0m\u001b[0;34m.\u001b[0m\u001b[0mmap\u001b[0m\u001b[0;34m[\u001b[0m\u001b[0mnew_state\u001b[0m\u001b[0;34m[\u001b[0m\u001b[0;36m0\u001b[0m\u001b[0;34m]\u001b[0m\u001b[0;34m,\u001b[0m \u001b[0mnew_state\u001b[0m\u001b[0;34m[\u001b[0m\u001b[0;36m1\u001b[0m\u001b[0;34m]\u001b[0m\u001b[0;34m]\u001b[0m \u001b[0;34m==\u001b[0m \u001b[0;36m1\u001b[0m\u001b[0;34m:\u001b[0m\u001b[0;34m\u001b[0m\u001b[0;34m\u001b[0m\u001b[0m\n\u001b[0m\u001b[1;32m     38\u001b[0m         \u001b[0mnew_state\u001b[0m \u001b[0;34m=\u001b[0m \u001b[0mself\u001b[0m\u001b[0;34m.\u001b[0m\u001b[0mcurrent_state\u001b[0m \u001b[0;31m# Don't move if will hit obstacle\u001b[0m\u001b[0;34m\u001b[0m\u001b[0;34m\u001b[0m\u001b[0m\n\u001b[1;32m     39\u001b[0m \u001b[0;34m\u001b[0m\u001b[0m\n",
            "\u001b[0;31mIndexError\u001b[0m: index 20 is out of bounds for axis 1 with size 20"
          ]
        }
      ],
      "source": [
        "# Create an environment and a QLearning agent to learn it. Plot the averaged rewards stored.\n",
        "alpha = 1e-4\n",
        "gamma = 1e-6\n",
        "epsilon = 0.1\n",
        "n_episodes = 1000\n",
        "max_steps = 50\n",
        "\n",
        "myenv = MapEnv(grid_map,np.array([3,17]),max_steps)\n",
        "q = QLearning(myenv, alpha, gamma, epsilon, n_episodes)\n",
        "q.train(n_episodes)\n"
      ]
    },
    {
      "cell_type": "markdown",
      "metadata": {
        "id": "hJWZblvUul0O"
      },
      "source": [
        "## Plot value function and optimal policy"
      ]
    },
    {
      "cell_type": "code",
      "execution_count": 8,
      "metadata": {
        "colab": {
          "base_uri": "https://localhost:8080/",
          "height": 843
        },
        "id": "w_z8566Oul0P",
        "outputId": "00fadb2d-e514-47c7-a69d-bd3130745f96"
      },
      "outputs": [
        {
          "data": {
            "text/plain": [
              "<matplotlib.colorbar.Colorbar at 0x7cd3ceacf5e0>"
            ]
          },
          "execution_count": 8,
          "metadata": {},
          "output_type": "execute_result"
        },
        {
          "data": {
            "image/png": "[encoded data removed]",
            "text/plain": [
              "<Figure size 685.714x480 with 2 Axes>"
            ]
          },
          "metadata": {},
          "output_type": "display_data"
        },
        {
          "data": {
            "image/png": "[encoded data removed]",
            "text/plain": [
              "<Figure size 685.714x480 with 2 Axes>"
            ]
          },
          "metadata": {},
          "output_type": "display_data"
        }
      ],
      "source": [
        "# Plot the value function (see included figure)\n",
        "value_function = q.value_function()\n",
        "plt.matshow(value_function, cmap = \"jet\")\n",
        "plt.title('Value Function')\n",
        "plt.colorbar()\n",
        "\n",
        "# Plot policy (see included figure)\n",
        "policy = q.get_optimal_policy()\n",
        "plt.matshow(policy, cmap = \"jet\")\n",
        "plt.title('Optimal Policy')\n",
        "plt.colorbar()"
      ]
    },
    {
      "cell_type": "markdown",
      "metadata": {
        "id": "G0HhgeIAul0Q"
      },
      "source": [
        "## Test current Policy"
      ]
    },
    {
      "cell_type": "markdown",
      "metadata": {
        "id": "To2nTQUn_HGM"
      },
      "source": [
        "Once the training is over, we can see what the robot has learnt to do. You can test it with other goal positions and other maps, to see of the policy is able to adapt to other situations."
      ]
    },
    {
      "cell_type": "code",
      "execution_count": null,
      "metadata": {
        "id": "RTV2Y3nda1k-"
      },
      "outputs": [],
      "source": [
        "# generate an animation with the agent solving the maze\n",
        "\n",
        "\n",
        "\n",
        "\n"
      ]
    },
    {
      "cell_type": "markdown",
      "metadata": {
        "id": "aJX0sMULa1k-"
      },
      "source": [
        "## Other environemnts\n",
        "\n",
        "Create a new map (min size 15 x 15).\n",
        "\n",
        "Answer:\n",
        "\n",
        "* The policy you have just learned is able to solve this map?\n",
        "* If not, the algorithm you have implemented is able to learn a new policy to solve this map? Demonstrate one or the other"
      ]
    },
    {
      "cell_type": "markdown",
      "metadata": {
        "id": "KKfb29-0BkCV"
      },
      "source": [
        "## Submission\n",
        "\n",
        "You must deliver this Python Interactive Notebook. The file must have the name q_learning_YOUR_NAME.ipynb. Also, you must do a report commenting the problems you encountered, a discussion on how the parameters affect the training and conclusions for the results obtained.\n",
        "\n",
        "Make sure that all cells can be executed."
      ]
    }
  ],
  "metadata": {
    "colab": {
      "provenance": []
    },
    "interpreter": {
      "hash": "e8efbb1c39583597a5dcee4af3da3e7c09711a134bb0c2976f954bb2a2f0e8df"
    },
    "kernelspec": {
      "display_name": "Python 3.8.10 ('venv')",
      "language": "python",
      "name": "python3"
    },
    "language_info": {
      "codemirror_mode": {
        "name": "ipython",
        "version": 3
      },
      "file_extension": ".py",
      "mimetype": "text/x-python",
      "name": "python",
      "nbconvert_exporter": "python",
      "pygments_lexer": "ipython3",
      "version": "3.8.10"
    },
    "orig_nbformat": 4
  },
  "nbformat": 4,
  "nbformat_minor": 0
}
